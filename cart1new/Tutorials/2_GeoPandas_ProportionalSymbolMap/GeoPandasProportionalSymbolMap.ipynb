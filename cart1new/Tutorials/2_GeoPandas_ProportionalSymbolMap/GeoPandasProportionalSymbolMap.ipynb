{
 "cells": [
  {
   "cell_type": "markdown",
   "metadata": {},
   "source": [
    "Getting Started with GeoPandas\n",
    "Written by Raechel Portelli \n",
    "10/18/2021"
   ]
  },
  {
   "cell_type": "markdown",
   "metadata": {},
   "source": [
    "# Getting Set Up "
   ]
  },
  {
   "cell_type": "markdown",
   "metadata": {},
   "source": [
    "Import necessary packages. Note that you can do this as you need them, or import them all at the beginning of a project"
   ]
  },
  {
   "cell_type": "code",
   "execution_count": 489,
   "metadata": {},
   "outputs": [],
   "source": [
    "import geopandas as gp\n",
    "import pandas as pd \n",
    "import numpy as np\n",
    "import fiona\n",
    "import matplotlib.pyplot as plt\n",
    "%matplotlib inline\n",
    "from pyproj import CRS\n",
    "from matplotlib_scalebar.scalebar import ScaleBar\n"
   ]
  },
  {
   "cell_type": "markdown",
   "metadata": {},
   "source": [
    "Add the shapefile or shapefiles you would like to work on."
   ]
  },
  {
   "cell_type": "code",
   "execution_count": 490,
   "metadata": {},
   "outputs": [],
   "source": [
    "stateParks_gdf = gp.read_file(\"C:/Users/raechel/Desktop/stateParks/Michigan_State_Park_Boundaries.shp\")\n",
    "base = gp.read_file(\"C:/Users/raechel/Desktop/stateParks/michiganCounties.geojson\")"
   ]
  },
  {
   "cell_type": "code",
   "execution_count": 491,
   "metadata": {},
   "outputs": [
    {
     "data": {
      "text/html": [
       "<div>\n",
       "<style scoped>\n",
       "    .dataframe tbody tr th:only-of-type {\n",
       "        vertical-align: middle;\n",
       "    }\n",
       "\n",
       "    .dataframe tbody tr th {\n",
       "        vertical-align: top;\n",
       "    }\n",
       "\n",
       "    .dataframe thead th {\n",
       "        text-align: right;\n",
       "    }\n",
       "</style>\n",
       "<table border=\"1\" class=\"dataframe\">\n",
       "  <thead>\n",
       "    <tr style=\"text-align: right;\">\n",
       "      <th></th>\n",
       "      <th>OBJECTID</th>\n",
       "      <th>ACRES</th>\n",
       "      <th>DISTRICT</th>\n",
       "      <th>FACILITY</th>\n",
       "      <th>Shape__Are</th>\n",
       "      <th>Shape__Len</th>\n",
       "      <th>geometry</th>\n",
       "    </tr>\n",
       "  </thead>\n",
       "  <tbody>\n",
       "    <tr>\n",
       "      <th>0</th>\n",
       "      <td>3</td>\n",
       "      <td>311.141471</td>\n",
       "      <td>Plainwell</td>\n",
       "      <td>Warren Woods State Park</td>\n",
       "      <td>1.259150e+06</td>\n",
       "      <td>4959.549382</td>\n",
       "      <td>POLYGON ((-86.62908 41.84222, -86.62443 41.842...</td>\n",
       "    </tr>\n",
       "    <tr>\n",
       "      <th>1</th>\n",
       "      <td>4</td>\n",
       "      <td>1245.541431</td>\n",
       "      <td>Rose Lake</td>\n",
       "      <td>Sterling State Park</td>\n",
       "      <td>5.040535e+06</td>\n",
       "      <td>13790.852772</td>\n",
       "      <td>MULTIPOLYGON (((-83.33697 41.92611, -83.33506 ...</td>\n",
       "    </tr>\n",
       "    <tr>\n",
       "      <th>2</th>\n",
       "      <td>5</td>\n",
       "      <td>77.098186</td>\n",
       "      <td>Metro Detroit</td>\n",
       "      <td>Dodge 4 State Park</td>\n",
       "      <td>3.120058e+05</td>\n",
       "      <td>2866.284608</td>\n",
       "      <td>POLYGON ((-83.37361 42.61789, -83.36923 42.618...</td>\n",
       "    </tr>\n",
       "    <tr>\n",
       "      <th>3</th>\n",
       "      <td>6</td>\n",
       "      <td>179.450770</td>\n",
       "      <td>Cadillac</td>\n",
       "      <td>Interlochen State Park</td>\n",
       "      <td>7.262144e+05</td>\n",
       "      <td>4647.027868</td>\n",
       "      <td>POLYGON ((-85.76709 44.63292, -85.76060 44.632...</td>\n",
       "    </tr>\n",
       "    <tr>\n",
       "      <th>4</th>\n",
       "      <td>7</td>\n",
       "      <td>544.967155</td>\n",
       "      <td>Metro Detroit</td>\n",
       "      <td>Lakeport State Park</td>\n",
       "      <td>2.205407e+06</td>\n",
       "      <td>9267.296991</td>\n",
       "      <td>MULTIPOLYGON (((-82.50263 43.13311, -82.49696 ...</td>\n",
       "    </tr>\n",
       "  </tbody>\n",
       "</table>\n",
       "</div>"
      ],
      "text/plain": [
       "   OBJECTID        ACRES       DISTRICT                 FACILITY  \\\n",
       "0         3   311.141471      Plainwell  Warren Woods State Park   \n",
       "1         4  1245.541431      Rose Lake      Sterling State Park   \n",
       "2         5    77.098186  Metro Detroit       Dodge 4 State Park   \n",
       "3         6   179.450770       Cadillac   Interlochen State Park   \n",
       "4         7   544.967155  Metro Detroit      Lakeport State Park   \n",
       "\n",
       "     Shape__Are    Shape__Len  \\\n",
       "0  1.259150e+06   4959.549382   \n",
       "1  5.040535e+06  13790.852772   \n",
       "2  3.120058e+05   2866.284608   \n",
       "3  7.262144e+05   4647.027868   \n",
       "4  2.205407e+06   9267.296991   \n",
       "\n",
       "                                            geometry  \n",
       "0  POLYGON ((-86.62908 41.84222, -86.62443 41.842...  \n",
       "1  MULTIPOLYGON (((-83.33697 41.92611, -83.33506 ...  \n",
       "2  POLYGON ((-83.37361 42.61789, -83.36923 42.618...  \n",
       "3  POLYGON ((-85.76709 44.63292, -85.76060 44.632...  \n",
       "4  MULTIPOLYGON (((-82.50263 43.13311, -82.49696 ...  "
      ]
     },
     "execution_count": 491,
     "metadata": {},
     "output_type": "execute_result"
    }
   ],
   "source": [
    "stateParks_gdf.head()"
   ]
  },
  {
   "cell_type": "markdown",
   "metadata": {},
   "source": [
    "# Data Filtering"
   ]
  },
  {
   "cell_type": "markdown",
   "metadata": {},
   "source": [
    "For this example, let's create a proportional symbol map that is based on the acreage of the state parks. To begin, let's look at the data to see what parks are the largest and smallest. This will allow us to determine if the map is accurate."
   ]
  },
  {
   "cell_type": "code",
   "execution_count": 492,
   "metadata": {},
   "outputs": [
    {
     "data": {
      "text/plain": [
       "['OBJECTID',\n",
       " 'ACRES',\n",
       " 'DISTRICT',\n",
       " 'FACILITY',\n",
       " 'Shape__Are',\n",
       " 'Shape__Len',\n",
       " 'geometry']"
      ]
     },
     "execution_count": 492,
     "metadata": {},
     "output_type": "execute_result"
    }
   ],
   "source": [
    "list(stateParks_gdf)"
   ]
  },
  {
   "cell_type": "markdown",
   "metadata": {},
   "source": [
    "Assign the ACRES column to a variable called column"
   ]
  },
  {
   "cell_type": "code",
   "execution_count": 493,
   "metadata": {},
   "outputs": [],
   "source": [
    "column = stateParks_gdf['ACRES']"
   ]
  },
  {
   "cell_type": "markdown",
   "metadata": {},
   "source": [
    "Identify the maximum value for the ACRES column"
   ]
  },
  {
   "cell_type": "code",
   "execution_count": 494,
   "metadata": {},
   "outputs": [
    {
     "data": {
      "text/plain": [
       "60066.85909015"
      ]
     },
     "execution_count": 494,
     "metadata": {},
     "output_type": "execute_result"
    }
   ],
   "source": [
    "column.max()"
   ]
  },
  {
   "cell_type": "markdown",
   "metadata": {},
   "source": [
    "We can also find the maximum more directly by using the maximum function with the locator"
   ]
  },
  {
   "cell_type": "code",
   "execution_count": 495,
   "metadata": {},
   "outputs": [
    {
     "data": {
      "text/plain": [
       "60066.85909015"
      ]
     },
     "execution_count": 495,
     "metadata": {},
     "output_type": "execute_result"
    }
   ],
   "source": [
    "stateParks_gdf['ACRES'].max()"
   ]
  },
  {
   "cell_type": "markdown",
   "metadata": {},
   "source": [
    "Next, let's see which park has the maximum acres. First, let's try returning the entire row of data."
   ]
  },
  {
   "cell_type": "code",
   "execution_count": 496,
   "metadata": {},
   "outputs": [
    {
     "data": {
      "text/html": [
       "<div>\n",
       "<style scoped>\n",
       "    .dataframe tbody tr th:only-of-type {\n",
       "        vertical-align: middle;\n",
       "    }\n",
       "\n",
       "    .dataframe tbody tr th {\n",
       "        vertical-align: top;\n",
       "    }\n",
       "\n",
       "    .dataframe thead th {\n",
       "        text-align: right;\n",
       "    }\n",
       "</style>\n",
       "<table border=\"1\" class=\"dataframe\">\n",
       "  <thead>\n",
       "    <tr style=\"text-align: right;\">\n",
       "      <th></th>\n",
       "      <th>OBJECTID</th>\n",
       "      <th>ACRES</th>\n",
       "      <th>DISTRICT</th>\n",
       "      <th>FACILITY</th>\n",
       "      <th>Shape__Are</th>\n",
       "      <th>Shape__Len</th>\n",
       "      <th>geometry</th>\n",
       "    </tr>\n",
       "  </thead>\n",
       "  <tbody>\n",
       "    <tr>\n",
       "      <th>74</th>\n",
       "      <td>89</td>\n",
       "      <td>60066.85909</td>\n",
       "      <td>Western UP</td>\n",
       "      <td>Porcupine Mountains Wilderness State Park</td>\n",
       "      <td>2.430822e+08</td>\n",
       "      <td>127684.973735</td>\n",
       "      <td>MULTIPOLYGON (((-89.96955 46.67584, -89.96955 ...</td>\n",
       "    </tr>\n",
       "  </tbody>\n",
       "</table>\n",
       "</div>"
      ],
      "text/plain": [
       "    OBJECTID        ACRES    DISTRICT  \\\n",
       "74        89  60066.85909  Western UP   \n",
       "\n",
       "                                     FACILITY    Shape__Are     Shape__Len  \\\n",
       "74  Porcupine Mountains Wilderness State Park  2.430822e+08  127684.973735   \n",
       "\n",
       "                                             geometry  \n",
       "74  MULTIPOLYGON (((-89.96955 46.67584, -89.96955 ...  "
      ]
     },
     "execution_count": 496,
     "metadata": {},
     "output_type": "execute_result"
    }
   ],
   "source": [
    "stateParks_gdf[stateParks_gdf['ACRES']==stateParks_gdf['ACRES'].max()]"
   ]
  },
  {
   "cell_type": "markdown",
   "metadata": {},
   "source": [
    "We can also find this information by returning just the name of the FACILITY. "
   ]
  },
  {
   "cell_type": "code",
   "execution_count": 497,
   "metadata": {},
   "outputs": [
    {
     "data": {
      "text/plain": [
       "FACILITY    Porcupine Mountains Wilderness State Park\n",
       "Name: 74, dtype: object"
      ]
     },
     "execution_count": 497,
     "metadata": {},
     "output_type": "execute_result"
    }
   ],
   "source": [
    "stateParks_gdf.loc[stateParks_gdf.ACRES.idxmax(), ['FACILITY']]"
   ]
  },
  {
   "cell_type": "code",
   "execution_count": 498,
   "metadata": {},
   "outputs": [
    {
     "data": {
      "text/plain": [
       "FACILITY    W.F. Memorial Hart-Montague Trail State Park\n",
       "Name: 59, dtype: object"
      ]
     },
     "execution_count": 498,
     "metadata": {},
     "output_type": "execute_result"
    }
   ],
   "source": [
    "stateParks_gdf.loc[stateParks_gdf.ACRES.idxmin(), ['FACILITY']]"
   ]
  },
  {
   "cell_type": "markdown",
   "metadata": {},
   "source": [
    "# Making our Map"
   ]
  },
  {
   "cell_type": "markdown",
   "metadata": {},
   "source": [
    "Let's start by checking our projection. This is done with the crs (Coordinate Reference System) function.  You can find the code for various map  projections at https://epsg.io/"
   ]
  },
  {
   "cell_type": "code",
   "execution_count": 499,
   "metadata": {},
   "outputs": [
    {
     "data": {
      "text/plain": [
       "<Geographic 2D CRS: EPSG:4326>\n",
       "Name: WGS 84\n",
       "Axis Info [ellipsoidal]:\n",
       "- Lat[north]: Geodetic latitude (degree)\n",
       "- Lon[east]: Geodetic longitude (degree)\n",
       "Area of Use:\n",
       "- name: World\n",
       "- bounds: (-180.0, -90.0, 180.0, 90.0)\n",
       "Datum: World Geodetic System 1984\n",
       "- Ellipsoid: WGS 84\n",
       "- Prime Meridian: Greenwich"
      ]
     },
     "execution_count": 499,
     "metadata": {},
     "output_type": "execute_result"
    }
   ],
   "source": [
    "stateParks_gdf.crs"
   ]
  },
  {
   "cell_type": "code",
   "execution_count": 500,
   "metadata": {},
   "outputs": [
    {
     "data": {
      "text/plain": [
       "<Geographic 2D CRS: EPSG:4326>\n",
       "Name: WGS 84\n",
       "Axis Info [ellipsoidal]:\n",
       "- Lat[north]: Geodetic latitude (degree)\n",
       "- Lon[east]: Geodetic longitude (degree)\n",
       "Area of Use:\n",
       "- name: World\n",
       "- bounds: (-180.0, -90.0, 180.0, 90.0)\n",
       "Datum: World Geodetic System 1984\n",
       "- Ellipsoid: WGS 84\n",
       "- Prime Meridian: Greenwich"
      ]
     },
     "execution_count": 500,
     "metadata": {},
     "output_type": "execute_result"
    }
   ],
   "source": [
    "base.crs"
   ]
  },
  {
   "cell_type": "markdown",
   "metadata": {},
   "source": [
    " As you can see we are using the World Reference System of 1984. This is not projected, so it will not do for our needs. We should try a equal area projection. To reproject the files we can use to_crs() function using the EPSG codes."
   ]
  },
  {
   "cell_type": "code",
   "execution_count": 501,
   "metadata": {},
   "outputs": [
    {
     "name": "stderr",
     "output_type": "stream",
     "text": [
      "C:\\Users\\raechel\\anaconda3\\envs\\geo-env\\lib\\site-packages\\pyproj\\crs\\crs.py:53: FutureWarning: '+init=<authority>:<code>' syntax is deprecated. '<authority>:<code>' is the preferred initialization method. When making the change, be mindful of axis order changes: https://pyproj4.github.io/pyproj/stable/gotchas.html#axis-order-changes-in-proj-6\n",
      "  return _prepare_from_string(\" \".join(pjargs))\n"
     ]
    }
   ],
   "source": [
    "stateParks_gdf = stateParks_gdf.to_crs({'init': 'epsg:2252'})"
   ]
  },
  {
   "cell_type": "markdown",
   "metadata": {},
   "source": [
    "Now that you know which is the largest and smallest parks, we can make a proportional symbol map showing the size of all the parks."
   ]
  },
  {
   "cell_type": "code",
   "execution_count": 502,
   "metadata": {},
   "outputs": [],
   "source": [
    "base=base.to_crs({'init': 'epsg:2252'})"
   ]
  },
  {
   "cell_type": "markdown",
   "metadata": {},
   "source": [
    "First, we will need to identify the centroids for each of the parks in order to have an accurate location for the symbols."
   ]
  },
  {
   "cell_type": "code",
   "execution_count": 503,
   "metadata": {},
   "outputs": [],
   "source": [
    "park_centroids = gp.GeoDataFrame(stateParks_gdf.centroid, columns=['geometry'])"
   ]
  },
  {
   "cell_type": "markdown",
   "metadata": {},
   "source": [
    "Next, we will join the centroids to the ACRES information"
   ]
  },
  {
   "cell_type": "code",
   "execution_count": 504,
   "metadata": {},
   "outputs": [],
   "source": [
    "park_centroids = park_centroids.join(stateParks_gdf['ACRES'])"
   ]
  },
  {
   "cell_type": "code",
   "execution_count": 505,
   "metadata": {},
   "outputs": [
    {
     "data": {
      "text/plain": [
       "0       311.141471\n",
       "1      1245.541431\n",
       "2        77.098186\n",
       "3       179.450770\n",
       "4       544.967155\n",
       "          ...     \n",
       "101    4126.112150\n",
       "102     133.409784\n",
       "103     290.281487\n",
       "104      55.399613\n",
       "105     826.547081\n",
       "Name: ACRES, Length: 106, dtype: float64"
      ]
     },
     "execution_count": 505,
     "metadata": {},
     "output_type": "execute_result"
    }
   ],
   "source": [
    "pd.to_numeric(park_centroids['ACRES'])"
   ]
  },
  {
   "cell_type": "markdown",
   "metadata": {},
   "source": [
    "Create Proportional Symbol Size. Note that the area of the symbol is calculated based on the diameter so you need to take the square root of the value."
   ]
  },
  {
   "cell_type": "code",
   "execution_count": 506,
   "metadata": {},
   "outputs": [],
   "source": [
    "size=pd.to_numeric(np.sqrt(park_centroids[\"ACRES\"]))"
   ]
  },
  {
   "cell_type": "code",
   "execution_count": 507,
   "metadata": {},
   "outputs": [
    {
     "data": {
      "text/html": [
       "<div>\n",
       "<style scoped>\n",
       "    .dataframe tbody tr th:only-of-type {\n",
       "        vertical-align: middle;\n",
       "    }\n",
       "\n",
       "    .dataframe tbody tr th {\n",
       "        vertical-align: top;\n",
       "    }\n",
       "\n",
       "    .dataframe thead th {\n",
       "        text-align: right;\n",
       "    }\n",
       "</style>\n",
       "<table border=\"1\" class=\"dataframe\">\n",
       "  <thead>\n",
       "    <tr style=\"text-align: right;\">\n",
       "      <th></th>\n",
       "      <th>geometry</th>\n",
       "      <th>ACRES</th>\n",
       "      <th>size</th>\n",
       "    </tr>\n",
       "  </thead>\n",
       "  <tbody>\n",
       "    <tr>\n",
       "      <th>0</th>\n",
       "      <td>POINT (19068977.639 -531911.337)</td>\n",
       "      <td>311.141471</td>\n",
       "      <td>8.819601</td>\n",
       "    </tr>\n",
       "    <tr>\n",
       "      <th>1</th>\n",
       "      <td>POINT (19963985.072 -509554.831)</td>\n",
       "      <td>1245.541431</td>\n",
       "      <td>17.646115</td>\n",
       "    </tr>\n",
       "    <tr>\n",
       "      <th>2</th>\n",
       "      <td>POINT (19953455.668 -254093.890)</td>\n",
       "      <td>77.098186</td>\n",
       "      <td>4.390279</td>\n",
       "    </tr>\n",
       "    <tr>\n",
       "      <th>3</th>\n",
       "      <td>POINT (19321673.876 480672.362)</td>\n",
       "      <td>179.450770</td>\n",
       "      <td>6.697962</td>\n",
       "    </tr>\n",
       "    <tr>\n",
       "      <th>4</th>\n",
       "      <td>POINT (20184691.424 -66318.961)</td>\n",
       "      <td>544.967155</td>\n",
       "      <td>11.672266</td>\n",
       "    </tr>\n",
       "    <tr>\n",
       "      <th>...</th>\n",
       "      <td>...</td>\n",
       "      <td>...</td>\n",
       "      <td>...</td>\n",
       "    </tr>\n",
       "    <tr>\n",
       "      <th>101</th>\n",
       "      <td>POINT (19861522.941 -296326.748)</td>\n",
       "      <td>4126.112150</td>\n",
       "      <td>32.117410</td>\n",
       "    </tr>\n",
       "    <tr>\n",
       "      <th>102</th>\n",
       "      <td>POINT (19719840.891 772051.181)</td>\n",
       "      <td>133.409784</td>\n",
       "      <td>5.775158</td>\n",
       "    </tr>\n",
       "    <tr>\n",
       "      <th>103</th>\n",
       "      <td>POINT (19732132.232 660646.418)</td>\n",
       "      <td>290.281487</td>\n",
       "      <td>8.518825</td>\n",
       "    </tr>\n",
       "    <tr>\n",
       "      <th>104</th>\n",
       "      <td>POINT (18648508.277 1282318.122)</td>\n",
       "      <td>55.399613</td>\n",
       "      <td>3.721546</td>\n",
       "    </tr>\n",
       "    <tr>\n",
       "      <th>105</th>\n",
       "      <td>POINT (18818525.192 1530210.628)</td>\n",
       "      <td>826.547081</td>\n",
       "      <td>14.374866</td>\n",
       "    </tr>\n",
       "  </tbody>\n",
       "</table>\n",
       "<p>106 rows × 3 columns</p>\n",
       "</div>"
      ],
      "text/plain": [
       "                             geometry        ACRES       size\n",
       "0    POINT (19068977.639 -531911.337)   311.141471   8.819601\n",
       "1    POINT (19963985.072 -509554.831)  1245.541431  17.646115\n",
       "2    POINT (19953455.668 -254093.890)    77.098186   4.390279\n",
       "3     POINT (19321673.876 480672.362)   179.450770   6.697962\n",
       "4     POINT (20184691.424 -66318.961)   544.967155  11.672266\n",
       "..                                ...          ...        ...\n",
       "101  POINT (19861522.941 -296326.748)  4126.112150  32.117410\n",
       "102   POINT (19719840.891 772051.181)   133.409784   5.775158\n",
       "103   POINT (19732132.232 660646.418)   290.281487   8.518825\n",
       "104  POINT (18648508.277 1282318.122)    55.399613   3.721546\n",
       "105  POINT (18818525.192 1530210.628)   826.547081  14.374866\n",
       "\n",
       "[106 rows x 3 columns]"
      ]
     },
     "execution_count": 507,
     "metadata": {},
     "output_type": "execute_result"
    }
   ],
   "source": [
    "park_centroids[\"size\"] = np.sqrt(park_centroids[\"ACRES\"])/2\n",
    "park_centroids"
   ]
  },
  {
   "cell_type": "code",
   "execution_count": 508,
   "metadata": {},
   "outputs": [
    {
     "data": {
      "text/html": [
       "<div>\n",
       "<style scoped>\n",
       "    .dataframe tbody tr th:only-of-type {\n",
       "        vertical-align: middle;\n",
       "    }\n",
       "\n",
       "    .dataframe tbody tr th {\n",
       "        vertical-align: top;\n",
       "    }\n",
       "\n",
       "    .dataframe thead th {\n",
       "        text-align: right;\n",
       "    }\n",
       "</style>\n",
       "<table border=\"1\" class=\"dataframe\">\n",
       "  <thead>\n",
       "    <tr style=\"text-align: right;\">\n",
       "      <th></th>\n",
       "      <th>geometry</th>\n",
       "      <th>ACRES</th>\n",
       "      <th>size</th>\n",
       "      <th>FACILITY</th>\n",
       "    </tr>\n",
       "  </thead>\n",
       "  <tbody>\n",
       "    <tr>\n",
       "      <th>0</th>\n",
       "      <td>POINT (19068977.639 -531911.337)</td>\n",
       "      <td>311.141471</td>\n",
       "      <td>8.819601</td>\n",
       "      <td>Warren Woods State Park</td>\n",
       "    </tr>\n",
       "    <tr>\n",
       "      <th>1</th>\n",
       "      <td>POINT (19963985.072 -509554.831)</td>\n",
       "      <td>1245.541431</td>\n",
       "      <td>17.646115</td>\n",
       "      <td>Sterling State Park</td>\n",
       "    </tr>\n",
       "    <tr>\n",
       "      <th>2</th>\n",
       "      <td>POINT (19953455.668 -254093.890)</td>\n",
       "      <td>77.098186</td>\n",
       "      <td>4.390279</td>\n",
       "      <td>Dodge 4 State Park</td>\n",
       "    </tr>\n",
       "    <tr>\n",
       "      <th>3</th>\n",
       "      <td>POINT (19321673.876 480672.362)</td>\n",
       "      <td>179.450770</td>\n",
       "      <td>6.697962</td>\n",
       "      <td>Interlochen State Park</td>\n",
       "    </tr>\n",
       "    <tr>\n",
       "      <th>4</th>\n",
       "      <td>POINT (20184691.424 -66318.961)</td>\n",
       "      <td>544.967155</td>\n",
       "      <td>11.672266</td>\n",
       "      <td>Lakeport State Park</td>\n",
       "    </tr>\n",
       "    <tr>\n",
       "      <th>...</th>\n",
       "      <td>...</td>\n",
       "      <td>...</td>\n",
       "      <td>...</td>\n",
       "      <td>...</td>\n",
       "    </tr>\n",
       "    <tr>\n",
       "      <th>101</th>\n",
       "      <td>POINT (19861522.941 -296326.748)</td>\n",
       "      <td>4126.112150</td>\n",
       "      <td>32.117410</td>\n",
       "      <td>Island Lake Recreation Area</td>\n",
       "    </tr>\n",
       "    <tr>\n",
       "      <th>102</th>\n",
       "      <td>POINT (19719840.891 772051.181)</td>\n",
       "      <td>133.409784</td>\n",
       "      <td>5.775158</td>\n",
       "      <td>Onaway State Park</td>\n",
       "    </tr>\n",
       "    <tr>\n",
       "      <th>103</th>\n",
       "      <td>POINT (19732132.232 660646.418)</td>\n",
       "      <td>290.281487</td>\n",
       "      <td>8.518825</td>\n",
       "      <td>Clear Lake State Park</td>\n",
       "    </tr>\n",
       "    <tr>\n",
       "      <th>104</th>\n",
       "      <td>POINT (18648508.277 1282318.122)</td>\n",
       "      <td>55.399613</td>\n",
       "      <td>3.721546</td>\n",
       "      <td>Baraga State Park</td>\n",
       "    </tr>\n",
       "    <tr>\n",
       "      <th>105</th>\n",
       "      <td>POINT (18818525.192 1530210.628)</td>\n",
       "      <td>826.547081</td>\n",
       "      <td>14.374866</td>\n",
       "      <td>Fort Wilkins State Historic Park</td>\n",
       "    </tr>\n",
       "  </tbody>\n",
       "</table>\n",
       "<p>106 rows × 4 columns</p>\n",
       "</div>"
      ],
      "text/plain": [
       "                             geometry        ACRES       size  \\\n",
       "0    POINT (19068977.639 -531911.337)   311.141471   8.819601   \n",
       "1    POINT (19963985.072 -509554.831)  1245.541431  17.646115   \n",
       "2    POINT (19953455.668 -254093.890)    77.098186   4.390279   \n",
       "3     POINT (19321673.876 480672.362)   179.450770   6.697962   \n",
       "4     POINT (20184691.424 -66318.961)   544.967155  11.672266   \n",
       "..                                ...          ...        ...   \n",
       "101  POINT (19861522.941 -296326.748)  4126.112150  32.117410   \n",
       "102   POINT (19719840.891 772051.181)   133.409784   5.775158   \n",
       "103   POINT (19732132.232 660646.418)   290.281487   8.518825   \n",
       "104  POINT (18648508.277 1282318.122)    55.399613   3.721546   \n",
       "105  POINT (18818525.192 1530210.628)   826.547081  14.374866   \n",
       "\n",
       "                             FACILITY  \n",
       "0             Warren Woods State Park  \n",
       "1                 Sterling State Park  \n",
       "2                  Dodge 4 State Park  \n",
       "3              Interlochen State Park  \n",
       "4                 Lakeport State Park  \n",
       "..                                ...  \n",
       "101       Island Lake Recreation Area  \n",
       "102                 Onaway State Park  \n",
       "103             Clear Lake State Park  \n",
       "104                 Baraga State Park  \n",
       "105  Fort Wilkins State Historic Park  \n",
       "\n",
       "[106 rows x 4 columns]"
      ]
     },
     "execution_count": 508,
     "metadata": {},
     "output_type": "execute_result"
    }
   ],
   "source": [
    "park_labels = park_centroids.join(stateParks_gdf['FACILITY'])\n",
    "park_labels"
   ]
  },
  {
   "cell_type": "markdown",
   "metadata": {},
   "source": [
    "Let's go ahead and remove redundant information \"State Park\" from the labels so that we clean up some potential clutter."
   ]
  },
  {
   "cell_type": "code",
   "execution_count": 509,
   "metadata": {},
   "outputs": [
    {
     "data": {
      "text/html": [
       "<div>\n",
       "<style scoped>\n",
       "    .dataframe tbody tr th:only-of-type {\n",
       "        vertical-align: middle;\n",
       "    }\n",
       "\n",
       "    .dataframe tbody tr th {\n",
       "        vertical-align: top;\n",
       "    }\n",
       "\n",
       "    .dataframe thead th {\n",
       "        text-align: right;\n",
       "    }\n",
       "</style>\n",
       "<table border=\"1\" class=\"dataframe\">\n",
       "  <thead>\n",
       "    <tr style=\"text-align: right;\">\n",
       "      <th></th>\n",
       "      <th>geometry</th>\n",
       "      <th>ACRES</th>\n",
       "      <th>size</th>\n",
       "      <th>FACILITY</th>\n",
       "    </tr>\n",
       "  </thead>\n",
       "  <tbody>\n",
       "    <tr>\n",
       "      <th>0</th>\n",
       "      <td>POINT (19068977.639 -531911.337)</td>\n",
       "      <td>311.141471</td>\n",
       "      <td>8.819601</td>\n",
       "      <td>Warren Woods</td>\n",
       "    </tr>\n",
       "    <tr>\n",
       "      <th>1</th>\n",
       "      <td>POINT (19963985.072 -509554.831)</td>\n",
       "      <td>1245.541431</td>\n",
       "      <td>17.646115</td>\n",
       "      <td>Sterling</td>\n",
       "    </tr>\n",
       "    <tr>\n",
       "      <th>2</th>\n",
       "      <td>POINT (19953455.668 -254093.890)</td>\n",
       "      <td>77.098186</td>\n",
       "      <td>4.390279</td>\n",
       "      <td>Dodge 4</td>\n",
       "    </tr>\n",
       "    <tr>\n",
       "      <th>3</th>\n",
       "      <td>POINT (19321673.876 480672.362)</td>\n",
       "      <td>179.450770</td>\n",
       "      <td>6.697962</td>\n",
       "      <td>Interloch</td>\n",
       "    </tr>\n",
       "    <tr>\n",
       "      <th>4</th>\n",
       "      <td>POINT (20184691.424 -66318.961)</td>\n",
       "      <td>544.967155</td>\n",
       "      <td>11.672266</td>\n",
       "      <td>Lakep</td>\n",
       "    </tr>\n",
       "    <tr>\n",
       "      <th>...</th>\n",
       "      <td>...</td>\n",
       "      <td>...</td>\n",
       "      <td>...</td>\n",
       "      <td>...</td>\n",
       "    </tr>\n",
       "    <tr>\n",
       "      <th>101</th>\n",
       "      <td>POINT (19861522.941 -296326.748)</td>\n",
       "      <td>4126.112150</td>\n",
       "      <td>32.117410</td>\n",
       "      <td>Island Lak</td>\n",
       "    </tr>\n",
       "    <tr>\n",
       "      <th>102</th>\n",
       "      <td>POINT (19719840.891 772051.181)</td>\n",
       "      <td>133.409784</td>\n",
       "      <td>5.775158</td>\n",
       "      <td>Onaway</td>\n",
       "    </tr>\n",
       "    <tr>\n",
       "      <th>103</th>\n",
       "      <td>POINT (19732132.232 660646.418)</td>\n",
       "      <td>290.281487</td>\n",
       "      <td>8.518825</td>\n",
       "      <td>Clear L</td>\n",
       "    </tr>\n",
       "    <tr>\n",
       "      <th>104</th>\n",
       "      <td>POINT (18648508.277 1282318.122)</td>\n",
       "      <td>55.399613</td>\n",
       "      <td>3.721546</td>\n",
       "      <td>Barag</td>\n",
       "    </tr>\n",
       "    <tr>\n",
       "      <th>105</th>\n",
       "      <td>POINT (18818525.192 1530210.628)</td>\n",
       "      <td>826.547081</td>\n",
       "      <td>14.374866</td>\n",
       "      <td>Fort Wilkins State His</td>\n",
       "    </tr>\n",
       "  </tbody>\n",
       "</table>\n",
       "<p>106 rows × 4 columns</p>\n",
       "</div>"
      ],
      "text/plain": [
       "                             geometry        ACRES       size  \\\n",
       "0    POINT (19068977.639 -531911.337)   311.141471   8.819601   \n",
       "1    POINT (19963985.072 -509554.831)  1245.541431  17.646115   \n",
       "2    POINT (19953455.668 -254093.890)    77.098186   4.390279   \n",
       "3     POINT (19321673.876 480672.362)   179.450770   6.697962   \n",
       "4     POINT (20184691.424 -66318.961)   544.967155  11.672266   \n",
       "..                                ...          ...        ...   \n",
       "101  POINT (19861522.941 -296326.748)  4126.112150  32.117410   \n",
       "102   POINT (19719840.891 772051.181)   133.409784   5.775158   \n",
       "103   POINT (19732132.232 660646.418)   290.281487   8.518825   \n",
       "104  POINT (18648508.277 1282318.122)    55.399613   3.721546   \n",
       "105  POINT (18818525.192 1530210.628)   826.547081  14.374866   \n",
       "\n",
       "                   FACILITY  \n",
       "0              Warren Woods  \n",
       "1                  Sterling  \n",
       "2                   Dodge 4  \n",
       "3                 Interloch  \n",
       "4                     Lakep  \n",
       "..                      ...  \n",
       "101              Island Lak  \n",
       "102                  Onaway  \n",
       "103                 Clear L  \n",
       "104                   Barag  \n",
       "105  Fort Wilkins State His  \n",
       "\n",
       "[106 rows x 4 columns]"
      ]
     },
     "execution_count": 509,
     "metadata": {},
     "output_type": "execute_result"
    }
   ],
   "source": [
    "park_labels['FACILITY'] = park_labels['FACILITY'].map(lambda x: x.lstrip('+-').rstrip('State Park'))\n",
    "park_labels['FACILITY'] = park_labels['FACILITY'].map(lambda x: x.lstrip('+-').rstrip('Recreation A'))\n",
    "park_labels"
   ]
  },
  {
   "cell_type": "markdown",
   "metadata": {},
   "source": [
    "Create a file for the annotation of the parks in the map based on the centroids, some offset, and the FACILITY attribute."
   ]
  },
  {
   "cell_type": "markdown",
   "metadata": {},
   "source": [
    "Create the basemap by importing a Michigan boundary GeoJSON and displaying it "
   ]
  },
  {
   "cell_type": "code",
   "execution_count": 510,
   "metadata": {},
   "outputs": [
    {
     "data": {
      "image/png": "[encoded data removed]",
      "text/plain": [
       "<Figure size 720x576 with 1 Axes>"
      ]
     },
     "metadata": {
      "needs_background": "light"
     },
     "output_type": "display_data"
    }
   ],
   "source": [
    "fig, ax = plt.subplots(figsize=(10,8))\n",
    "\n",
    "#basemap- basic display of a geojson.\n",
    "base.plot(ax=ax,\n",
    "             facecolor='lightgray',\n",
    "             edgecolor='white')\n",
    "\n",
    "#symbols: Created from the centroids we computed from the state park polygons with the size based on the ACRES\n",
    "symbols = park_centroids['size']\n",
    "\n",
    "park_centroids.plot(ax=ax,\n",
    "                   markersize=symbols,\n",
    "                   color='green')\n",
    "\n",
    "#text: Written out here for the first time\n",
    "ax.set_title('Size of State Parks (represented in Acres)')\n",
    "\n",
    "#scalebar: function from matplotlib\n",
    "ax.add_artist(ScaleBar(1))\n",
    "\n",
    "#labels: based on combination of centroids and the FACILITY info from stateparks_gdf\n",
    "for x, y, label in zip(park_labels.geometry.x, park_labels.geometry.y, park_labels.FACILITY):\n",
    "    ax.annotate(label, xy=(x, y), xytext=(5, 5), textcoords=\"offset points\")\n",
    "\n",
    "ax.axis('equal')\n",
    "ax.set_axis_off()\n",
    "plt.show()"
   ]
  },
  {
   "cell_type": "code",
   "execution_count": 511,
   "metadata": {},
   "outputs": [
    {
     "data": {
      "text/html": [
       "<div>\n",
       "<style scoped>\n",
       "    .dataframe tbody tr th:only-of-type {\n",
       "        vertical-align: middle;\n",
       "    }\n",
       "\n",
       "    .dataframe tbody tr th {\n",
       "        vertical-align: top;\n",
       "    }\n",
       "\n",
       "    .dataframe thead th {\n",
       "        text-align: right;\n",
       "    }\n",
       "</style>\n",
       "<table border=\"1\" class=\"dataframe\">\n",
       "  <thead>\n",
       "    <tr style=\"text-align: right;\">\n",
       "      <th></th>\n",
       "      <th>geometry</th>\n",
       "      <th>ACRES</th>\n",
       "      <th>size</th>\n",
       "      <th>FACILITY</th>\n",
       "    </tr>\n",
       "  </thead>\n",
       "  <tbody>\n",
       "    <tr>\n",
       "      <th>74</th>\n",
       "      <td>POINT (18330810.787 1302005.238)</td>\n",
       "      <td>60066.859090</td>\n",
       "      <td>122.542706</td>\n",
       "      <td>Porcupine Mountains Wilderness</td>\n",
       "    </tr>\n",
       "    <tr>\n",
       "      <th>40</th>\n",
       "      <td>POINT (19476650.763 1197889.094)</td>\n",
       "      <td>46799.947012</td>\n",
       "      <td>108.166477</td>\n",
       "      <td>Tahquamenon Falls</td>\n",
       "    </tr>\n",
       "    <tr>\n",
       "      <th>85</th>\n",
       "      <td>POINT (19740973.870 -354676.026)</td>\n",
       "      <td>22109.861198</td>\n",
       "      <td>74.346925</td>\n",
       "      <td>Waterl</td>\n",
       "    </tr>\n",
       "    <tr>\n",
       "      <th>84</th>\n",
       "      <td>POINT (19779094.373 -329991.726)</td>\n",
       "      <td>11851.957430</td>\n",
       "      <td>54.433348</td>\n",
       "      <td>Pinckney</td>\n",
       "    </tr>\n",
       "    <tr>\n",
       "      <th>33</th>\n",
       "      <td>POINT (19542218.115 881647.391)</td>\n",
       "      <td>11391.427616</td>\n",
       "      <td>53.365316</td>\n",
       "      <td>Wilderness</td>\n",
       "    </tr>\n",
       "  </tbody>\n",
       "</table>\n",
       "</div>"
      ],
      "text/plain": [
       "                            geometry         ACRES        size  \\\n",
       "74  POINT (18330810.787 1302005.238)  60066.859090  122.542706   \n",
       "40  POINT (19476650.763 1197889.094)  46799.947012  108.166477   \n",
       "85  POINT (19740973.870 -354676.026)  22109.861198   74.346925   \n",
       "84  POINT (19779094.373 -329991.726)  11851.957430   54.433348   \n",
       "33   POINT (19542218.115 881647.391)  11391.427616   53.365316   \n",
       "\n",
       "                          FACILITY  \n",
       "74  Porcupine Mountains Wilderness  \n",
       "40               Tahquamenon Falls  \n",
       "85                          Waterl  \n",
       "84                        Pinckney  \n",
       "33                      Wilderness  "
      ]
     },
     "execution_count": 511,
     "metadata": {},
     "output_type": "execute_result"
    }
   ],
   "source": [
    "top_five= park_labels.nlargest(5, 'ACRES')\n",
    "bottom_five = park_labels.nsmallest(5,'ACRES')\n",
    "top_five"
   ]
  },
  {
   "cell_type": "code",
   "execution_count": 512,
   "metadata": {},
   "outputs": [],
   "source": [
    "conditions = [\n",
    "    (park_labels['ACRES'] < 49),\n",
    "    (park_labels['ACRES'] >= 11390),\n",
    "    (park_labels['ACRES']>49) & (park_labels['ACRES']< 11390)]\n",
    "values = ['Small Park', 'Large Park', '']\n",
    "\n",
    "park_labels['NEWPARK'] = np.select(conditions, values)\n"
   ]
  },
  {
   "cell_type": "code",
   "execution_count": 513,
   "metadata": {},
   "outputs": [
    {
     "data": {
      "text/html": [
       "<div>\n",
       "<style scoped>\n",
       "    .dataframe tbody tr th:only-of-type {\n",
       "        vertical-align: middle;\n",
       "    }\n",
       "\n",
       "    .dataframe tbody tr th {\n",
       "        vertical-align: top;\n",
       "    }\n",
       "\n",
       "    .dataframe thead th {\n",
       "        text-align: right;\n",
       "    }\n",
       "</style>\n",
       "<table border=\"1\" class=\"dataframe\">\n",
       "  <thead>\n",
       "    <tr style=\"text-align: right;\">\n",
       "      <th></th>\n",
       "      <th>geometry</th>\n",
       "      <th>ACRES</th>\n",
       "      <th>size</th>\n",
       "      <th>FACILITY</th>\n",
       "      <th>NEWPARK</th>\n",
       "    </tr>\n",
       "  </thead>\n",
       "  <tbody>\n",
       "    <tr>\n",
       "      <th>7</th>\n",
       "      <td>POINT (19570058.457 259875.446)</td>\n",
       "      <td>34.798751</td>\n",
       "      <td>2.949523</td>\n",
       "      <td>Wils</td>\n",
       "      <td>Small Park</td>\n",
       "    </tr>\n",
       "    <tr>\n",
       "      <th>24</th>\n",
       "      <td>POINT (19109440.036 1127986.037)</td>\n",
       "      <td>34.912461</td>\n",
       "      <td>2.954338</td>\n",
       "      <td>Wagner Falls Scenic S</td>\n",
       "      <td>Small Park</td>\n",
       "    </tr>\n",
       "    <tr>\n",
       "      <th>27</th>\n",
       "      <td>POINT (20047576.530 -356002.018)</td>\n",
       "      <td>28.731896</td>\n",
       "      <td>2.680107</td>\n",
       "      <td>William G. Milliken State Park &amp; Harb</td>\n",
       "      <td>Small Park</td>\n",
       "    </tr>\n",
       "    <tr>\n",
       "      <th>30</th>\n",
       "      <td>POINT (19182174.965 -89431.042)</td>\n",
       "      <td>48.514660</td>\n",
       "      <td>3.482623</td>\n",
       "      <td>Grand Hav</td>\n",
       "      <td>Small Park</td>\n",
       "    </tr>\n",
       "    <tr>\n",
       "      <th>59</th>\n",
       "      <td>POINT (19155004.812 41349.945)</td>\n",
       "      <td>22.652271</td>\n",
       "      <td>2.379720</td>\n",
       "      <td>W.F. Memorial Hart-Montague Trail</td>\n",
       "      <td>Small Park</td>\n",
       "    </tr>\n",
       "  </tbody>\n",
       "</table>\n",
       "</div>"
      ],
      "text/plain": [
       "                            geometry      ACRES      size  \\\n",
       "7    POINT (19570058.457 259875.446)  34.798751  2.949523   \n",
       "24  POINT (19109440.036 1127986.037)  34.912461  2.954338   \n",
       "27  POINT (20047576.530 -356002.018)  28.731896  2.680107   \n",
       "30   POINT (19182174.965 -89431.042)  48.514660  3.482623   \n",
       "59    POINT (19155004.812 41349.945)  22.652271  2.379720   \n",
       "\n",
       "                                 FACILITY     NEWPARK  \n",
       "7                                    Wils  Small Park  \n",
       "24                  Wagner Falls Scenic S  Small Park  \n",
       "27  William G. Milliken State Park & Harb  Small Park  \n",
       "30                              Grand Hav  Small Park  \n",
       "59      W.F. Memorial Hart-Montague Trail  Small Park  "
      ]
     },
     "execution_count": 513,
     "metadata": {},
     "output_type": "execute_result"
    }
   ],
   "source": [
    "park_labels\n",
    "x = park_labels.loc[park_labels['NEWPARK']=='Small Park']\n",
    "x"
   ]
  },
  {
   "cell_type": "code",
   "execution_count": 517,
   "metadata": {},
   "outputs": [
    {
     "data": {
      "text/html": [
       "<div>\n",
       "<style scoped>\n",
       "    .dataframe tbody tr th:only-of-type {\n",
       "        vertical-align: middle;\n",
       "    }\n",
       "\n",
       "    .dataframe tbody tr th {\n",
       "        vertical-align: top;\n",
       "    }\n",
       "\n",
       "    .dataframe thead th {\n",
       "        text-align: right;\n",
       "    }\n",
       "</style>\n",
       "<table border=\"1\" class=\"dataframe\">\n",
       "  <thead>\n",
       "    <tr style=\"text-align: right;\">\n",
       "      <th></th>\n",
       "      <th>geometry</th>\n",
       "      <th>ACRES</th>\n",
       "      <th>size</th>\n",
       "      <th>FACILITY</th>\n",
       "      <th>NEWPARK</th>\n",
       "    </tr>\n",
       "  </thead>\n",
       "  <tbody>\n",
       "    <tr>\n",
       "      <th>0</th>\n",
       "      <td>POINT (19068977.639 -531911.337)</td>\n",
       "      <td>311.141471</td>\n",
       "      <td>8.819601</td>\n",
       "      <td>Warren Woods</td>\n",
       "      <td></td>\n",
       "    </tr>\n",
       "    <tr>\n",
       "      <th>1</th>\n",
       "      <td>POINT (19963985.072 -509554.831)</td>\n",
       "      <td>1245.541431</td>\n",
       "      <td>17.646115</td>\n",
       "      <td>Sterling</td>\n",
       "      <td></td>\n",
       "    </tr>\n",
       "    <tr>\n",
       "      <th>2</th>\n",
       "      <td>POINT (19953455.668 -254093.890)</td>\n",
       "      <td>77.098186</td>\n",
       "      <td>4.390279</td>\n",
       "      <td>Dodge 4</td>\n",
       "      <td></td>\n",
       "    </tr>\n",
       "    <tr>\n",
       "      <th>3</th>\n",
       "      <td>POINT (19321673.876 480672.362)</td>\n",
       "      <td>179.450770</td>\n",
       "      <td>6.697962</td>\n",
       "      <td>Interloch</td>\n",
       "      <td></td>\n",
       "    </tr>\n",
       "    <tr>\n",
       "      <th>4</th>\n",
       "      <td>POINT (20184691.424 -66318.961)</td>\n",
       "      <td>544.967155</td>\n",
       "      <td>11.672266</td>\n",
       "      <td>Lakep</td>\n",
       "      <td></td>\n",
       "    </tr>\n",
       "    <tr>\n",
       "      <th>...</th>\n",
       "      <td>...</td>\n",
       "      <td>...</td>\n",
       "      <td>...</td>\n",
       "      <td>...</td>\n",
       "      <td>...</td>\n",
       "    </tr>\n",
       "    <tr>\n",
       "      <th>101</th>\n",
       "      <td>POINT (19861522.941 -296326.748)</td>\n",
       "      <td>4126.112150</td>\n",
       "      <td>32.117410</td>\n",
       "      <td>Island Lak</td>\n",
       "      <td></td>\n",
       "    </tr>\n",
       "    <tr>\n",
       "      <th>102</th>\n",
       "      <td>POINT (19719840.891 772051.181)</td>\n",
       "      <td>133.409784</td>\n",
       "      <td>5.775158</td>\n",
       "      <td>Onaway</td>\n",
       "      <td></td>\n",
       "    </tr>\n",
       "    <tr>\n",
       "      <th>103</th>\n",
       "      <td>POINT (19732132.232 660646.418)</td>\n",
       "      <td>290.281487</td>\n",
       "      <td>8.518825</td>\n",
       "      <td>Clear L</td>\n",
       "      <td></td>\n",
       "    </tr>\n",
       "    <tr>\n",
       "      <th>104</th>\n",
       "      <td>POINT (18648508.277 1282318.122)</td>\n",
       "      <td>55.399613</td>\n",
       "      <td>3.721546</td>\n",
       "      <td>Barag</td>\n",
       "      <td></td>\n",
       "    </tr>\n",
       "    <tr>\n",
       "      <th>105</th>\n",
       "      <td>POINT (18818525.192 1530210.628)</td>\n",
       "      <td>826.547081</td>\n",
       "      <td>14.374866</td>\n",
       "      <td>Fort Wilkins State His</td>\n",
       "      <td></td>\n",
       "    </tr>\n",
       "  </tbody>\n",
       "</table>\n",
       "<p>106 rows × 5 columns</p>\n",
       "</div>"
      ],
      "text/plain": [
       "                             geometry        ACRES       size  \\\n",
       "0    POINT (19068977.639 -531911.337)   311.141471   8.819601   \n",
       "1    POINT (19963985.072 -509554.831)  1245.541431  17.646115   \n",
       "2    POINT (19953455.668 -254093.890)    77.098186   4.390279   \n",
       "3     POINT (19321673.876 480672.362)   179.450770   6.697962   \n",
       "4     POINT (20184691.424 -66318.961)   544.967155  11.672266   \n",
       "..                                ...          ...        ...   \n",
       "101  POINT (19861522.941 -296326.748)  4126.112150  32.117410   \n",
       "102   POINT (19719840.891 772051.181)   133.409784   5.775158   \n",
       "103   POINT (19732132.232 660646.418)   290.281487   8.518825   \n",
       "104  POINT (18648508.277 1282318.122)    55.399613   3.721546   \n",
       "105  POINT (18818525.192 1530210.628)   826.547081  14.374866   \n",
       "\n",
       "                   FACILITY NEWPARK  \n",
       "0              Warren Woods          \n",
       "1                  Sterling          \n",
       "2                   Dodge 4          \n",
       "3                 Interloch          \n",
       "4                     Lakep          \n",
       "..                      ...     ...  \n",
       "101              Island Lak          \n",
       "102                  Onaway          \n",
       "103                 Clear L          \n",
       "104                   Barag          \n",
       "105  Fort Wilkins State His          \n",
       "\n",
       "[106 rows x 5 columns]"
      ]
     },
     "execution_count": 517,
     "metadata": {},
     "output_type": "execute_result"
    }
   ],
   "source": [
    "park_labels.loc[park_labels['NEWPARK'] ==\"Small Park\", \"NEWPARK\"]=park_labels['FACILITY']\n",
    "park_labels.loc[park_labels['NEWPARK'] ==\"Large Park\", \"NEWPARK\"]=park_labels['FACILITY']\n",
    "park_labels"
   ]
  },
  {
   "cell_type": "code",
   "execution_count": 518,
   "metadata": {},
   "outputs": [
    {
     "name": "stdout",
     "output_type": "stream",
     "text": [
      "Empty GeoDataFrame\n",
      "Columns: [geometry, ACRES, size, FACILITY, NEWPARK]\n",
      "Index: []\n"
     ]
    }
   ],
   "source": [
    "x = park_labels.loc[(park_labels['NEWPARK']=='Small Park') | (park_labels['NEWPARK']=='Large Park')]\n",
    "print(x)"
   ]
  },
  {
   "cell_type": "code",
   "execution_count": 527,
   "metadata": {},
   "outputs": [
    {
     "data": {
      "image/png": "[encoded data removed]",
      "text/plain": [
       "<Figure size 720x576 with 1 Axes>"
      ]
     },
     "metadata": {
      "needs_background": "light"
     },
     "output_type": "display_data"
    }
   ],
   "source": [
    "fig, ax = plt.subplots(figsize=(10,8))\n",
    "\n",
    "#basemap- basic display of a geojson.\n",
    "base.plot(ax=ax,\n",
    "             facecolor='lightgray',\n",
    "             edgecolor='white',\n",
    "                )\n",
    "\n",
    "#symbols: Created from the centroids we computed from the state park polygons with the size based on the ACRES\n",
    "symbols = park_centroids['size']\n",
    "\n",
    "park_centroids.plot(ax=ax,\n",
    "                   markersize=symbols,\n",
    "                   color='green',\n",
    "                   )\n",
    "\n",
    "#text: Written out here for the first time\n",
    "ax.set_title('Size of State Parks (represented in Acres)')\n",
    "\n",
    "#scalebar: function from matplotlib\n",
    "ax.add_artist(ScaleBar(1))\n",
    "\n",
    "#labels: based on combination of centroids and the FACILITY info from stateparks_gdf\n",
    "for x, y, label in zip(park_labels.geometry.x, park_labels.geometry.y, park_labels.NEWPARK):\n",
    "    ax.annotate(label, xy=(x, y), xytext=(5, 5), textcoords=\"offset points\")\n",
    "\n",
    "ax.axis('equal')\n",
    "ax.set_axis_off()\n",
    "plt.show()"
   ]
  },
  {
   "cell_type": "code",
   "execution_count": null,
   "metadata": {},
   "outputs": [],
   "source": []
  },
  {
   "cell_type": "code",
   "execution_count": null,
   "metadata": {},
   "outputs": [],
   "source": []
  }
 ],
 "metadata": {
  "kernelspec": {
   "display_name": "Python 3",
   "language": "python",
   "name": "python3"
  },
  "language_info": {
   "codemirror_mode": {
    "name": "ipython",
    "version": 3
   },
   "file_extension": ".py",
   "mimetype": "text/x-python",
   "name": "python",
   "nbconvert_exporter": "python",
   "pygments_lexer": "ipython3",
   "version": "3.9.1"
  }
 },
 "nbformat": 4,
 "nbformat_minor": 4
}
